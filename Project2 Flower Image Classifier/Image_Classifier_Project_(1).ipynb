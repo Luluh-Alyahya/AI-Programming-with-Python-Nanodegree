{
  "cells": [
    {
      "cell_type": "markdown",
      "metadata": {
        "id": "4OImepKq-PEP"
      },
      "source": [
        "## Prepare the workspace"
      ]
    },
    {
      "cell_type": "code",
      "execution_count": 7,
      "metadata": {
        "colab": {
          "base_uri": "https://localhost:8080/"
        },
        "id": "Ho8SrN2E-PET",
        "outputId": "85c7e83c-f8ad-468d-cfa2-265c05d22f42"
      },
      "outputs": [
        {
          "output_type": "stream",
          "name": "stdout",
          "text": [
            "2.5.1+cu121\n",
            "True\n"
          ]
        }
      ],
      "source": [
        "# Check torch version and CUDA status if GPU is enabled.\n",
        "import torch\n",
        "print(torch.__version__)\n",
        "print(torch.cuda.is_available()) # Should return True when GPU is enabled."
      ]
    },
    {
      "cell_type": "markdown",
      "metadata": {
        "id": "9oKJYGA2-PEV"
      },
      "source": [
        "# Developing an AI application\n",
        "\n",
        "Going forward, AI algorithms will be incorporated into more and more everyday applications. For example, you might want to include an image classifier in a smart phone app. To do this, you'd use a deep learning model trained on hundreds of thousands of images as part of the overall application architecture. A large part of software development in the future will be using these types of models as common parts of applications.\n",
        "\n",
        "In this project, you'll train an image classifier to recognize different species of flowers. You can imagine using something like this in a phone app that tells you the name of the flower your camera is looking at. In practice you'd train this classifier, then export it for use in your application. We'll be using [this dataset](http://www.robots.ox.ac.uk/~vgg/data/flowers/102/index.html) of 102 flower categories, you can see a few examples below.\n",
        "\n",
        "<img src='assets/Flowers.png' width=500px>\n",
        "\n",
        "The project is broken down into multiple steps:\n",
        "\n",
        "* Load and preprocess the image dataset\n",
        "* Train the image classifier on your dataset\n",
        "* Use the trained classifier to predict image content\n",
        "\n",
        "We'll lead you through each part which you'll implement in Python.\n",
        "\n",
        "When you've completed this project, you'll have an application that can be trained on any set of labeled images. Here your network will be learning about flowers and end up as a command line application. But, what you do with your new skills depends on your imagination and effort in building a dataset. For example, imagine an app where you take a picture of a car, it tells you what the make and model is, then looks up information about it. Go build your own dataset and make something new.\n",
        "\n",
        "First up is importing the packages you'll need. It's good practice to keep all the imports at the beginning of your code. As you work through this notebook and find you need to import a package, make sure to add the import up here."
      ]
    },
    {
      "cell_type": "code",
      "execution_count": 8,
      "metadata": {
        "id": "9EZLxcUb-PEW"
      },
      "outputs": [],
      "source": [
        "# Imports here\n",
        "# imports for working with PyTorch and deep learning\n",
        "import torch\n",
        "from torch import nn, optim  # Neural network modules and optimizers\n",
        "from torchvision import datasets, transforms, models  # Datasets, transforms, and pre-trained models\n",
        "\n",
        "# Imports for handling images and visualizations\n",
        "from PIL import Image  # Image processing\n",
        "import matplotlib.pyplot as plt  # Visualization of data and model outputs\n",
        "\n",
        "# Utility imports for data handling and processing\n",
        "import os  # File and directory management\n",
        "import numpy as np  # Numerical operations\n",
        "\n",
        "# Imports for downloading and extracting datasets\n",
        "import requests  # For downloading files from the web\n",
        "import tarfile  # For extracting tar.gz files\n",
        "import shutil  # For file and directory management\n"
      ]
    },
    {
      "cell_type": "markdown",
      "metadata": {
        "id": "SgkSCNnb-PEX"
      },
      "source": [
        "## Load the data\n",
        "\n",
        "Here you'll use `torchvision` to load the data ([documentation](http://pytorch.org/docs/0.3.0/torchvision/index.html)). The data should be included alongside this notebook, otherwise you can [download it here](https://s3.amazonaws.com/content.udacity-data.com/nd089/flower_data.tar.gz)."
      ]
    },
    {
      "cell_type": "markdown",
      "metadata": {
        "id": "ho4L8mWZ-PEX"
      },
      "source": [
        "If you do not find the `flowers/` dataset in the current directory, **/workspace/home/aipnd-project/**, you can download it using the following commands.\n",
        "\n",
        "**Method 1**\n",
        "```bash\n",
        "!wget 'https://s3.amazonaws.com/content.udacity-data.com/nd089/flower_data.tar.gz'\n",
        "!unlink flowers\n",
        "!mkdir flowers && tar -xzf flower_data.tar.gz -C flowers\n",
        "```\n",
        "\n",
        "\n",
        "**Method 2**\n",
        "```bash\n",
        "!cp -r /data/ .\n",
        "```"
      ]
    },
    {
      "cell_type": "markdown",
      "metadata": {
        "id": "rWoFnLaE-PEY"
      },
      "source": [
        "## Data Description\n",
        "The dataset is split into three parts, training, validation, and testing. For the training, you'll want to apply transformations such as random scaling, cropping, and flipping. This will help the network generalize leading to better performance. You'll also need to make sure the input data is resized to 224x224 pixels as required by the pre-trained networks.\n",
        "\n",
        "The validation and testing sets are used to measure the model's performance on data it hasn't seen yet. For this you don't want any scaling or rotation transformations, but you'll need to resize then crop the images to the appropriate size.\n",
        "\n",
        "The pre-trained networks you'll use were trained on the ImageNet dataset where each color channel was normalized separately. For all three sets you'll need to normalize the means and standard deviations of the images to what the network expects. For the means, it's `[0.485, 0.456, 0.406]` and for the standard deviations `[0.229, 0.224, 0.225]`, calculated from the ImageNet images.  These values will shift each color channel to be centered at 0 and range from -1 to 1.\n"
      ]
    },
    {
      "cell_type": "code",
      "execution_count": 9,
      "metadata": {
        "id": "T97XH8-v-PEY"
      },
      "outputs": [],
      "source": [
        "data_dir = 'flowers'\n",
        "train_dir = data_dir + '/train'\n",
        "valid_dir = data_dir + '/valid'\n",
        "test_dir = data_dir + '/test'"
      ]
    },
    {
      "cell_type": "code",
      "execution_count": 10,
      "metadata": {
        "colab": {
          "base_uri": "https://localhost:8080/"
        },
        "id": "TNNlwGFP_FwA",
        "outputId": "5fad3945-4223-49f3-8770-993a49dae810"
      },
      "outputs": [
        {
          "output_type": "stream",
          "name": "stdout",
          "text": [
            "--2025-01-25 07:05:39--  https://s3.amazonaws.com/content.udacity-data.com/nd089/flower_data.tar.gz\n",
            "Resolving s3.amazonaws.com (s3.amazonaws.com)... 54.231.201.40, 52.217.123.216, 54.231.128.56, ...\n",
            "Connecting to s3.amazonaws.com (s3.amazonaws.com)|54.231.201.40|:443... connected.\n",
            "HTTP request sent, awaiting response... 200 OK\n",
            "Length: 344873452 (329M) [application/x-gzip]\n",
            "Saving to: ‘flower_data.tar.gz’\n",
            "\n",
            "flower_data.tar.gz  100%[===================>] 328.90M  7.70MB/s    in 43s     \n",
            "\n",
            "2025-01-25 07:06:23 (7.65 MB/s) - ‘flower_data.tar.gz’ saved [344873452/344873452]\n",
            "\n",
            "mv: cannot stat 'flower_data': No such file or directory\n"
          ]
        }
      ],
      "source": [
        "!wget 'https://s3.amazonaws.com/content.udacity-data.com/nd089/flower_data.tar.gz'\n",
        "!tar -xzf flower_data.tar.gz\n",
        "!mv flower_data flowers\n"
      ]
    },
    {
      "cell_type": "code",
      "execution_count": 11,
      "metadata": {
        "colab": {
          "base_uri": "https://localhost:8080/"
        },
        "id": "ocBQ4h9x_j3_",
        "outputId": "da6a319f-0bae-4b83-a8c1-dc8987a36a9e"
      },
      "outputs": [
        {
          "output_type": "stream",
          "name": "stdout",
          "text": [
            "flower_data.tar.gz  sample_data  test  train  valid\n"
          ]
        }
      ],
      "source": [
        "!ls\n"
      ]
    },
    {
      "cell_type": "code",
      "execution_count": 12,
      "metadata": {
        "id": "WQ1pUxBG_wp0"
      },
      "outputs": [],
      "source": [
        "!mkdir flowers\n",
        "!mv train valid test flowers/"
      ]
    },
    {
      "cell_type": "code",
      "execution_count": 13,
      "metadata": {
        "colab": {
          "base_uri": "https://localhost:8080/"
        },
        "id": "JXnUdOyk_1wx",
        "outputId": "ef1f677d-9da1-454f-d4d1-281ac923840a"
      },
      "outputs": [
        {
          "output_type": "stream",
          "name": "stdout",
          "text": [
            "test  train  valid\n"
          ]
        }
      ],
      "source": [
        "!ls flowers\n"
      ]
    },
    {
      "cell_type": "code",
      "execution_count": 14,
      "metadata": {
        "colab": {
          "base_uri": "https://localhost:8080/"
        },
        "id": "oGzSibE8-PEZ",
        "outputId": "5fad07d9-630d-48fd-c78c-132d37b3f9aa"
      },
      "outputs": [
        {
          "output_type": "stream",
          "name": "stdout",
          "text": [
            "DataLoaders are set up successfully!\n",
            "Training data: 6552 images.\n",
            "Validation data: 818 images.\n",
            "Testing data: 819 images.\n"
          ]
        }
      ],
      "source": [
        "from torchvision import datasets, transforms\n",
        "import torch\n",
        "\n",
        "# TODO: Define your transforms for the training, validation, and testing sets\n",
        "# Transformations for training data: includes augmentation for generalization\n",
        "train_transforms = transforms.Compose([\n",
        "    transforms.RandomResizedCrop(224),  # Randomly crop and resize to 224x224\n",
        "    transforms.RandomRotation(30),  # Randomly rotate the image by up to 30 degrees\n",
        "    transforms.RandomHorizontalFlip(),  # Randomly flip the image horizontally\n",
        "    transforms.ToTensor(),  # Convert image to a PyTorch tensor\n",
        "    transforms.Normalize([0.485, 0.456, 0.406], [0.229, 0.224, 0.225])  # Normalize using ImageNet statistics\n",
        "])\n",
        "\n",
        "# Transformations for validation and testing data: no augmentation, only resizing and normalization\n",
        "valid_test_transforms = transforms.Compose([\n",
        "    transforms.Resize(256),  # Resize the shortest side to 256 pixels\n",
        "    transforms.CenterCrop(224),  # Center-crop the image to 224x224\n",
        "    transforms.ToTensor(),  # Convert image to a PyTorch tensor\n",
        "    transforms.Normalize([0.485, 0.456, 0.406], [0.229, 0.224, 0.225])  # Normalize using ImageNet statistics\n",
        "])\n",
        "\n",
        "# TODO: Load the datasets with ImageFolder\n",
        "# Load training, validation, and testing datasets using ImageFolder\n",
        "data_dir = 'flowers'\n",
        "image_datasets = {\n",
        "    'train': datasets.ImageFolder(root=f\"{data_dir}/train\", transform=train_transforms),\n",
        "    'valid': datasets.ImageFolder(root=f\"{data_dir}/valid\", transform=valid_test_transforms),\n",
        "    'test': datasets.ImageFolder(root=f\"{data_dir}/test\", transform=valid_test_transforms),\n",
        "}\n",
        "\n",
        "# TODO: Using the image datasets and the transforms, define the DataLoaders\n",
        "# Create DataLoaders for efficient batch processing\n",
        "dataloaders = {\n",
        "    'train': torch.utils.data.DataLoader(image_datasets['train'], batch_size=64, shuffle=True),\n",
        "    'valid': torch.utils.data.DataLoader(image_datasets['valid'], batch_size=64, shuffle=False),\n",
        "    'test': torch.utils.data.DataLoader(image_datasets['test'], batch_size=64, shuffle=False),\n",
        "}\n",
        "\n",
        "# Print confirmation that the DataLoaders are ready\n",
        "print(\"DataLoaders are set up successfully!\")\n",
        "print(f\"Training data: {len(image_datasets['train'])} images.\")\n",
        "print(f\"Validation data: {len(image_datasets['valid'])} images.\")\n",
        "print(f\"Testing data: {len(image_datasets['test'])} images.\")\n"
      ]
    },
    {
      "cell_type": "markdown",
      "metadata": {
        "id": "_mCpz7-Y-PEa"
      },
      "source": [
        "### Label mapping\n",
        "\n",
        "You'll also need to load in a mapping from category label to category name. You can find this in the file `cat_to_name.json`. It's a JSON object which you can read in with the [`json` module](https://docs.python.org/2/library/json.html). This will give you a dictionary mapping the integer encoded categories to the actual names of the flowers."
      ]
    },
    {
      "cell_type": "code",
      "execution_count": 15,
      "metadata": {
        "colab": {
          "base_uri": "https://localhost:8080/"
        },
        "id": "8tD5M0o0APUS",
        "outputId": "fbd4e84c-abf5-4f40-cb36-b4a40fb1ac33"
      },
      "outputs": [
        {
          "output_type": "stream",
          "name": "stdout",
          "text": [
            "cat_to_name.json has been created!\n"
          ]
        }
      ],
      "source": [
        "import json\n",
        "\n",
        "# Define the category-to-name mapping\n",
        "cat_to_name = {\n",
        "    \"1\": \"pink primrose\",\n",
        "    \"2\": \"hard-leaved pocket orchid\",\n",
        "    \"3\": \"canterbury bells\",\n",
        "    \"4\": \"sweet pea\",\n",
        "    \"5\": \"english marigold\",\n",
        "    \"6\": \"tiger lily\",\n",
        "    \"7\": \"moon orchid\",\n",
        "    \"8\": \"bird of paradise\",\n",
        "    \"9\": \"monkshood\",\n",
        "    \"10\": \"globe thistle\"\n",
        "}\n",
        "\n",
        "# Save the dictionary to a JSON file\n",
        "with open('cat_to_name.json', 'w') as f:\n",
        "    json.dump(cat_to_name, f)\n",
        "\n",
        "print(\"cat_to_name.json has been created!\")\n"
      ]
    },
    {
      "cell_type": "code",
      "execution_count": 16,
      "metadata": {
        "id": "OEYybegd-PEb"
      },
      "outputs": [],
      "source": [
        "import json\n",
        "\n",
        "with open('cat_to_name.json', 'r') as f:\n",
        "    cat_to_name = json.load(f)"
      ]
    },
    {
      "cell_type": "markdown",
      "metadata": {
        "id": "l1D85GQ2-PEb"
      },
      "source": [
        "# Building and training the classifier\n",
        "\n",
        "Now that the data is ready, it's time to build and train the classifier. As usual, you should use one of the pretrained models from `torchvision.models` to get the image features. Build and train a new feed-forward classifier using those features.\n",
        "\n",
        "We're going to leave this part up to you. Refer to [the rubric](https://review.udacity.com/#!/rubrics/1663/view) for guidance on successfully completing this section. Things you'll need to do:\n",
        "\n",
        "* Load a [pre-trained network](http://pytorch.org/docs/master/torchvision/models.html) (If you need a starting point, the VGG networks work great and are straightforward to use)\n",
        "* Define a new, untrained feed-forward network as a classifier, using ReLU activations and dropout\n",
        "* Train the classifier layers using backpropagation using the pre-trained network to get the features\n",
        "* Track the loss and accuracy on the validation set to determine the best hyperparameters\n",
        "\n",
        "We've left a cell open for you below, but use as many as you need. Our advice is to break the problem up into smaller parts you can run separately. Check that each part is doing what you expect, then move on to the next. You'll likely find that as you work through each part, you'll need to go back and modify your previous code. This is totally normal!\n",
        "\n",
        "When training make sure you're updating only the weights of the feed-forward network. You should be able to get the validation accuracy above 70% if you build everything right. Make sure to try different hyperparameters (learning rate, units in the classifier, epochs, etc) to find the best model. Save those hyperparameters to use as default values in the next part of the project.\n",
        "\n",
        "One last important tip if you're using the workspace to run your code: To avoid having your workspace disconnect during the long-running tasks in this notebook, please read in the earlier page in this lesson called Intro to\n",
        "GPU Workspaces about Keeping Your Session Active.\n",
        "\n",
        "## Note for Workspace users:\n",
        "If your network is over 1 GB when saved as a checkpoint, there might be issues with saving backups in your workspace. Typically this happens with wide dense layers after the convolutional layers. If your saved checkpoint is larger than 1 GB (you can open a terminal and check with `ls -lh`), you should reduce the size of your hidden layers and train again."
      ]
    },
    {
      "cell_type": "code",
      "execution_count": 17,
      "metadata": {
        "colab": {
          "base_uri": "https://localhost:8080/"
        },
        "id": "OBgpZVYDR1Cq",
        "outputId": "776fb50c-34ea-41c0-c038-586c9c12abfe"
      },
      "outputs": [
        {
          "output_type": "stream",
          "name": "stdout",
          "text": [
            "cat_to_name.json  flower_data.tar.gz  flowers  sample_data\n"
          ]
        }
      ],
      "source": [
        "!ls\n"
      ]
    },
    {
      "cell_type": "code",
      "execution_count": 18,
      "metadata": {
        "colab": {
          "base_uri": "https://localhost:8080/"
        },
        "id": "bm9QeFVYR4qq",
        "outputId": "7588d6aa-ad23-4a42-c23f-a1da8036bc55"
      },
      "outputs": [
        {
          "output_type": "stream",
          "name": "stdout",
          "text": [
            "test  train  valid\n"
          ]
        }
      ],
      "source": [
        "!ls flowers\n"
      ]
    },
    {
      "cell_type": "code",
      "execution_count": 19,
      "metadata": {
        "colab": {
          "base_uri": "https://localhost:8080/"
        },
        "id": "kWXNjTjARpw6",
        "outputId": "2553c680-f834-46ca-ec95-7b7960e9fcc1"
      },
      "outputs": [
        {
          "output_type": "stream",
          "name": "stdout",
          "text": [
            "DataLoaders created successfully!\n",
            "Number of training samples: 6552\n",
            "Number of validation samples: 818\n",
            "Number of testing samples: 819\n"
          ]
        }
      ],
      "source": [
        "from torchvision import datasets, transforms\n",
        "\n",
        "# Define the data directory\n",
        "data_dir = 'flowers'\n",
        "\n",
        "# Define transformations for training data (data augmentation + normalization)\n",
        "train_transforms = transforms.Compose([\n",
        "    transforms.RandomResizedCrop(224),\n",
        "    transforms.RandomRotation(30),\n",
        "    transforms.RandomHorizontalFlip(),\n",
        "    transforms.ToTensor(),\n",
        "    transforms.Normalize([0.485, 0.456, 0.406], [0.229, 0.224, 0.225])\n",
        "])\n",
        "\n",
        "# Define transformations for validation and testing data (normalization only)\n",
        "valid_test_transforms = transforms.Compose([\n",
        "    transforms.Resize(256),\n",
        "    transforms.CenterCrop(224),\n",
        "    transforms.ToTensor(),\n",
        "    transforms.Normalize([0.485, 0.456, 0.406], [0.229, 0.224, 0.225])\n",
        "])\n",
        "\n",
        "# Load the datasets using ImageFolder\n",
        "image_datasets = {\n",
        "    'train': datasets.ImageFolder(root=f\"{data_dir}/train\", transform=train_transforms),\n",
        "    'valid': datasets.ImageFolder(root=f\"{data_dir}/valid\", transform=valid_test_transforms),\n",
        "    'test': datasets.ImageFolder(root=f\"{data_dir}/test\", transform=valid_test_transforms)\n",
        "}\n",
        "\n",
        "# Create DataLoaders for batch processing\n",
        "dataloaders = {\n",
        "    'train': torch.utils.data.DataLoader(image_datasets['train'], batch_size=64, shuffle=True),\n",
        "    'valid': torch.utils.data.DataLoader(image_datasets['valid'], batch_size=64, shuffle=False),\n",
        "    'test': torch.utils.data.DataLoader(image_datasets['test'], batch_size=64, shuffle=False)\n",
        "}\n",
        "\n",
        "print(\"DataLoaders created successfully!\")\n",
        "print(f\"Number of training samples: {len(image_datasets['train'])}\")\n",
        "print(f\"Number of validation samples: {len(image_datasets['valid'])}\")\n",
        "print(f\"Number of testing samples: {len(image_datasets['test'])}\")\n"
      ]
    },
    {
      "cell_type": "code",
      "execution_count": 20,
      "metadata": {
        "colab": {
          "base_uri": "https://localhost:8080/"
        },
        "id": "xWszfUbc-PEb",
        "outputId": "b9b00744-e2d5-4e16-87db-6e7f722ad857"
      },
      "outputs": [
        {
          "output_type": "stream",
          "name": "stdout",
          "text": [
            "Starting training...\n",
            "Epoch 1/5.. Train loss: 4.145.. Validation loss: 1.062.. Validation accuracy: 0.702\n",
            "Epoch 2/5.. Train loss: 1.465.. Validation loss: 0.697.. Validation accuracy: 0.809\n",
            "Epoch 3/5.. Train loss: 1.217.. Validation loss: 0.615.. Validation accuracy: 0.836\n",
            "Epoch 4/5.. Train loss: 1.125.. Validation loss: 0.560.. Validation accuracy: 0.857\n",
            "Epoch 5/5.. Train loss: 1.055.. Validation loss: 0.571.. Validation accuracy: 0.851\n",
            "Training completed!\n"
          ]
        }
      ],
      "source": [
        "# TODO: Build and train your network\n",
        "\n",
        "import torch\n",
        "from torch import nn, optim\n",
        "from torchvision import models\n",
        "from torchvision.models import VGG16_Weights\n",
        "\n",
        "# Step 1: Load a Pre-trained Model\n",
        "# Using a pre-trained VGG16 model with updated 'weights' parameter\n",
        "weights = VGG16_Weights.DEFAULT  # Default weights from the latest torchvision versions\n",
        "model = models.vgg16(weights=weights)\n",
        "\n",
        "# Step 2: Freeze Pre-trained Parameters\n",
        "# Freezing the feature extraction layers to avoid updating their weights\n",
        "for param in model.features.parameters():\n",
        "    param.requires_grad = False\n",
        "\n",
        "# Step 3: Define a New Classifier\n",
        "# Replace the pre-trained classifier with a custom one\n",
        "input_features = model.classifier[0].in_features  # Number of input features in the pre-trained model\n",
        "hidden_units = 4096  # Number of units in the hidden layer\n",
        "\n",
        "classifier = nn.Sequential(\n",
        "    nn.Linear(input_features, hidden_units),  # Input to hidden layer\n",
        "    nn.ReLU(),  # Activation function\n",
        "    nn.Dropout(0.2),  # Dropout for regularization\n",
        "    nn.Linear(hidden_units, 102),  # Hidden layer to 102 output classes\n",
        "    nn.LogSoftmax(dim=1)  # Log-Softmax for output probabilities\n",
        ")\n",
        "\n",
        "# Replace the classifier in the model\n",
        "model.classifier = classifier\n",
        "\n",
        "# Step 4: Define the Loss Function and Optimizer\n",
        "criterion = nn.NLLLoss()  # Negative Log Likelihood Loss for classification\n",
        "optimizer = optim.Adam(model.classifier.parameters(), lr=0.001)  # Optimizer for the classifier\n",
        "\n",
        "# Step 5: Set the Device (GPU if available, else CPU)\n",
        "device = torch.device(\"cuda\" if torch.cuda.is_available() else \"cpu\")\n",
        "model.to(device)  # Move the model to the selected device\n",
        "\n",
        "# Step 6: Training the Network\n",
        "epochs = 5  # Number of epochs to train the model\n",
        "steps = 0  # Counter for tracking training progress\n",
        "train_losses, valid_losses = [], []  # Lists to track loss trends\n",
        "\n",
        "print(\"Starting training...\")\n",
        "for epoch in range(epochs):\n",
        "    model.train()  # Set model to training mode\n",
        "    running_loss = 0\n",
        "\n",
        "    for inputs, labels in dataloaders['train']:\n",
        "        steps += 1\n",
        "        inputs, labels = inputs.to(device), labels.to(device)  # Move data to the selected device\n",
        "\n",
        "        optimizer.zero_grad()  # Clear the gradients from the previous step\n",
        "        log_ps = model(inputs)  # Forward pass\n",
        "        loss = criterion(log_ps, labels)  # Compute the loss\n",
        "        loss.backward()  # Backward pass to calculate gradients\n",
        "        optimizer.step()  # Update weights\n",
        "\n",
        "        running_loss += loss.item()\n",
        "\n",
        "    # Validation Loop\n",
        "    model.eval()  # Set model to evaluation mode\n",
        "    valid_loss = 0\n",
        "    accuracy = 0\n",
        "\n",
        "    with torch.no_grad():  # Disable gradient calculations for validation\n",
        "        for inputs, labels in dataloaders['valid']:\n",
        "            inputs, labels = inputs.to(device), labels.to(device)  # Move data to the selected device\n",
        "            log_ps = model(inputs)  # Forward pass\n",
        "            valid_loss += criterion(log_ps, labels).item()  # Compute validation loss\n",
        "\n",
        "            # Calculate accuracy\n",
        "            ps = torch.exp(log_ps)  # Convert log probabilities to probabilities\n",
        "            top_p, top_class = ps.topk(1, dim=1)  # Get the top prediction\n",
        "            equals = top_class == labels.view(*top_class.shape)  # Check if prediction is correct\n",
        "            accuracy += torch.mean(equals.type(torch.FloatTensor)).item()  # Calculate batch accuracy\n",
        "\n",
        "    # Track loss and accuracy\n",
        "    train_losses.append(running_loss / len(dataloaders['train']))\n",
        "    valid_losses.append(valid_loss / len(dataloaders['valid']))\n",
        "\n",
        "    print(f\"Epoch {epoch+1}/{epochs}.. \"\n",
        "          f\"Train loss: {running_loss / len(dataloaders['train']):.3f}.. \"\n",
        "          f\"Validation loss: {valid_loss / len(dataloaders['valid']):.3f}.. \"\n",
        "          f\"Validation accuracy: {accuracy / len(dataloaders['valid']):.3f}\")\n",
        "\n",
        "print(\"Training completed!\")"
      ]
    },
    {
      "cell_type": "markdown",
      "metadata": {
        "id": "uEgqYt6h-PEc"
      },
      "source": [
        "## Testing your network\n",
        "\n",
        "It's good practice to test your trained network on test data, images the network has never seen either in training or validation. This will give you a good estimate for the model's performance on completely new images. Run the test images through the network and measure the accuracy, the same way you did validation. You should be able to reach around 70% accuracy on the test set if the model has been trained well."
      ]
    },
    {
      "cell_type": "code",
      "execution_count": 21,
      "metadata": {
        "id": "iqLleqBx-PEc",
        "colab": {
          "base_uri": "https://localhost:8080/"
        },
        "outputId": "b2297a34-466e-44b6-a846-400c6d0197b6"
      },
      "outputs": [
        {
          "output_type": "stream",
          "name": "stdout",
          "text": [
            "Test Loss: 0.574\n",
            "Test Accuracy: 83.82%\n"
          ]
        }
      ],
      "source": [
        "# TODO: Do validation on the test set\n",
        "# Set the model to evaluation mode\n",
        "model.eval()\n",
        "\n",
        "# Initialize variables to track test loss and accuracy\n",
        "test_loss = 0\n",
        "test_accuracy = 0\n",
        "\n",
        "# Use torch.no_grad() to turn off gradient calculations for validation\n",
        "with torch.no_grad():\n",
        "    for inputs, labels in dataloaders['test']:\n",
        "        # Move data to the appropriate device (GPU or CPU)\n",
        "        inputs, labels = inputs.to(device), labels.to(device)\n",
        "\n",
        "        # Forward pass: compute the model's output\n",
        "        log_ps = model(inputs)\n",
        "\n",
        "        # Calculate the test loss\n",
        "        loss = criterion(log_ps, labels)\n",
        "        test_loss += loss.item()\n",
        "\n",
        "        # Calculate accuracy\n",
        "        ps = torch.exp(log_ps)  # Convert log probabilities to probabilities\n",
        "        top_p, top_class = ps.topk(1, dim=1)  # Get the top prediction for each input\n",
        "        equals = top_class == labels.view(*top_class.shape)  # Check if predictions match the labels\n",
        "        test_accuracy += torch.mean(equals.type(torch.FloatTensor)).item()\n",
        "\n",
        "# Calculate the average test loss and accuracy\n",
        "test_loss = test_loss / len(dataloaders['test'])\n",
        "test_accuracy = test_accuracy / len(dataloaders['test'])\n",
        "\n",
        "# Print the results\n",
        "print(f\"Test Loss: {test_loss:.3f}\")\n",
        "print(f\"Test Accuracy: {test_accuracy * 100:.2f}%\")\n"
      ]
    },
    {
      "cell_type": "markdown",
      "metadata": {
        "id": "Nv4ZallN-PEc"
      },
      "source": [
        "## Save the checkpoint\n",
        "\n",
        "Now that your network is trained, save the model so you can load it later for making predictions. You probably want to save other things such as the mapping of classes to indices which you get from one of the image datasets: `image_datasets['train'].class_to_idx`. You can attach this to the model as an attribute which makes inference easier later on.\n",
        "\n",
        "```model.class_to_idx = image_datasets['train'].class_to_idx```\n",
        "\n",
        "Remember that you'll want to completely rebuild the model later so you can use it for inference. Make sure to include any information you need in the checkpoint. If you want to load the model and keep training, you'll want to save the number of epochs as well as the optimizer state, `optimizer.state_dict`. You'll likely want to use this trained model in the next part of the project, so best to save it now."
      ]
    },
    {
      "cell_type": "code",
      "execution_count": 22,
      "metadata": {
        "id": "qiK10mmw-PEd",
        "colab": {
          "base_uri": "https://localhost:8080/"
        },
        "outputId": "f945ef2a-4dde-4739-ba50-d66d11ab4bf0"
      },
      "outputs": [
        {
          "output_type": "stream",
          "name": "stdout",
          "text": [
            "Model checkpoint saved successfully!\n"
          ]
        }
      ],
      "source": [
        "# TODO: Save the checkpoint\n",
        "# Attach the class-to-index mapping to the model\n",
        "model.class_to_idx = image_datasets['train'].class_to_idx\n",
        "\n",
        "# Define the checkpoint dictionary\n",
        "checkpoint = {\n",
        "    'architecture': 'vgg16',  # Specify the model architecture\n",
        "    'classifier': model.classifier,  # Save the classifier\n",
        "    'state_dict': model.state_dict(),  # Save the model's learned parameters\n",
        "    'class_to_idx': model.class_to_idx,  # Save the class-to-index mapping\n",
        "    'optimizer_state': optimizer.state_dict(),  # Save the optimizer state\n",
        "    'epochs': epochs  # Save the number of training epochs\n",
        "}\n",
        "\n",
        "# Save the checkpoint to a file\n",
        "torch.save(checkpoint, 'model_checkpoint.pth')\n",
        "print(\"Model checkpoint saved successfully!\")\n"
      ]
    },
    {
      "cell_type": "markdown",
      "metadata": {
        "id": "CrYps2_k-PEd"
      },
      "source": [
        "## Loading the checkpoint\n",
        "\n",
        "At this point it's good to write a function that can load a checkpoint and rebuild the model. That way you can come back to this project and keep working on it without having to retrain the network."
      ]
    },
    {
      "cell_type": "code",
      "execution_count": 23,
      "metadata": {
        "id": "z9tG7q0C-PEd"
      },
      "outputs": [],
      "source": [
        "# TODO: Write a function that loads a checkpoint and rebuilds the model\n",
        "import torch\n",
        "from torchvision import models\n",
        "\n",
        "def load_checkpoint(filepath):\n",
        "    \"\"\"\n",
        "    Load a model checkpoint and rebuild the model.\n",
        "\n",
        "    Args:\n",
        "        filepath (str): Path to the checkpoint file.\n",
        "\n",
        "    Returns:\n",
        "        model: The rebuilt model with loaded weights and configurations.\n",
        "    \"\"\"\n",
        "    # Load the checkpoint\n",
        "    checkpoint = torch.load(filepath)\n",
        "\n",
        "    # Rebuild the pre-trained model\n",
        "    model = models.vgg16(pretrained=True) if checkpoint['architecture'] == 'vgg16' else None\n",
        "\n",
        "    if model is None:\n",
        "        raise ValueError(f\"Model architecture '{checkpoint['architecture']}' is not supported.\")\n",
        "\n",
        "    # Replace the classifier with the one saved in the checkpoint\n",
        "    model.classifier = checkpoint['classifier']\n",
        "\n",
        "    # Load the model's state_dict (weights and biases)\n",
        "    model.load_state_dict(checkpoint['state_dict'])\n",
        "\n",
        "    # Attach the class-to-index mapping\n",
        "    model.class_to_idx = checkpoint['class_to_idx']\n",
        "\n",
        "    print(f\"Model '{checkpoint['architecture']}' loaded successfully!\")\n",
        "    return model\n"
      ]
    },
    {
      "cell_type": "markdown",
      "metadata": {
        "id": "ug9riJiK-PEd"
      },
      "source": [
        "# Inference for classification\n",
        "\n",
        "Now you'll write a function to use a trained network for inference. That is, you'll pass an image into the network and predict the class of the flower in the image. Write a function called `predict` that takes an image and a model, then returns the top $K$ most likely classes along with the probabilities. It should look like\n",
        "\n",
        "```python\n",
        "probs, classes = predict(image_path, model)\n",
        "print(probs)\n",
        "print(classes)\n",
        "> [ 0.01558163  0.01541934  0.01452626  0.01443549  0.01407339]\n",
        "> ['70', '3', '45', '62', '55']\n",
        "```\n",
        "\n",
        "First you'll need to handle processing the input image such that it can be used in your network.\n",
        "\n",
        "## Image Preprocessing\n",
        "\n",
        "You'll want to use `PIL` to load the image ([documentation](https://pillow.readthedocs.io/en/latest/reference/Image.html)). It's best to write a function that preprocesses the image so it can be used as input for the model. This function should process the images in the same manner used for training.\n",
        "\n",
        "First, resize the images where the shortest side is 256 pixels, keeping the aspect ratio. This can be done with the [`thumbnail`](http://pillow.readthedocs.io/en/3.1.x/reference/Image.html#PIL.Image.Image.thumbnail) or [`resize`](http://pillow.readthedocs.io/en/3.1.x/reference/Image.html#PIL.Image.Image.thumbnail) methods. Then you'll need to crop out the center 224x224 portion of the image.\n",
        "\n",
        "Color channels of images are typically encoded as integers 0-255, but the model expected floats 0-1. You'll need to convert the values. It's easiest with a Numpy array, which you can get from a PIL image like so `np_image = np.array(pil_image)`.\n",
        "\n",
        "As before, the network expects the images to be normalized in a specific way. For the means, it's `[0.485, 0.456, 0.406]` and for the standard deviations `[0.229, 0.224, 0.225]`. You'll want to subtract the means from each color channel, then divide by the standard deviation.\n",
        "\n",
        "And finally, PyTorch expects the color channel to be the first dimension but it's the third dimension in the PIL image and Numpy array. You can reorder dimensions using [`ndarray.transpose`](https://docs.scipy.org/doc/numpy-1.13.0/reference/generated/numpy.ndarray.transpose.html). The color channel needs to be first and retain the order of the other two dimensions."
      ]
    },
    {
      "cell_type": "code",
      "execution_count": 24,
      "metadata": {
        "id": "w1iCbjFx-PEe"
      },
      "outputs": [],
      "source": [
        "from PIL import Image\n",
        "import numpy as np\n",
        "import torchvision.transforms as transforms\n",
        "def process_image(image):\n",
        "    ''' Scales, crops, and normalizes a PIL image for a PyTorch model,\n",
        "        returns an Numpy array\n",
        "    '''\n",
        "\n",
        "    # TODO: Process a PIL image for use in a PyTorch model\n",
        "    # Open the image using PIL\n",
        "    image = Image.open(image_path)\n",
        "\n",
        "    # Define the transformation pipeline\n",
        "    preprocess = transforms.Compose([\n",
        "        transforms.Resize(256),  # Resize the shortest side to 256 pixels\n",
        "        transforms.CenterCrop(224),  # Center crop the image to 224x224\n",
        "        transforms.ToTensor(),  # Convert the image to a PyTorch tensor\n",
        "        transforms.Normalize([0.485, 0.456, 0.406], [0.229, 0.224, 0.225])  # Normalize using ImageNet stats\n",
        "    ])\n",
        "\n",
        "    # Apply the transformations\n",
        "    tensor_image = preprocess(image)\n",
        "\n",
        "    # Convert the tensor to a NumPy array\n",
        "    np_image = tensor_image.numpy()\n",
        "\n",
        "    return np_image"
      ]
    },
    {
      "cell_type": "markdown",
      "metadata": {
        "id": "__c2mEiI-PEe"
      },
      "source": [
        "To check your work, the function below converts a PyTorch tensor and displays it in the notebook. If your `process_image` function works, running the output through this function should return the original image (except for the cropped out portions)."
      ]
    },
    {
      "cell_type": "code",
      "execution_count": 25,
      "metadata": {
        "id": "Cy50CdRZ-PEe"
      },
      "outputs": [],
      "source": [
        "def imshow(image, ax=None, title=None):\n",
        "    \"\"\"Imshow for Tensor.\"\"\"\n",
        "    if ax is None:\n",
        "        fig, ax = plt.subplots()\n",
        "\n",
        "    # PyTorch tensors assume the color channel is the first dimension\n",
        "    # but matplotlib assumes is the third dimension\n",
        "    image = image.numpy().transpose((1, 2, 0))\n",
        "\n",
        "    # Undo preprocessing\n",
        "    mean = np.array([0.485, 0.456, 0.406])\n",
        "    std = np.array([0.229, 0.224, 0.225])\n",
        "    image = std * image + mean\n",
        "\n",
        "    # Image needs to be clipped between 0 and 1 or it looks like noise when displayed\n",
        "    image = np.clip(image, 0, 1)\n",
        "\n",
        "    ax.imshow(image)\n",
        "\n",
        "    return ax"
      ]
    },
    {
      "cell_type": "markdown",
      "metadata": {
        "id": "tQEZCYUK-PEe"
      },
      "source": [
        "## Class Prediction\n",
        "\n",
        "Once you can get images in the correct format, it's time to write a function for making predictions with your model. A common practice is to predict the top 5 or so (usually called top-$K$) most probable classes. You'll want to calculate the class probabilities then find the $K$ largest values.\n",
        "\n",
        "To get the top $K$ largest values in a tensor use [`x.topk(k)`](http://pytorch.org/docs/master/torch.html#torch.topk). This method returns both the highest `k` probabilities and the indices of those probabilities corresponding to the classes. You need to convert from these indices to the actual class labels using `class_to_idx` which hopefully you added to the model or from an `ImageFolder` you used to load the data ([see here](#Save-the-checkpoint)). Make sure to invert the dictionary so you get a mapping from index to class as well.\n",
        "\n",
        "Again, this method should take a path to an image and a model checkpoint, then return the probabilities and classes.\n",
        "\n",
        "```python\n",
        "probs, classes = predict(image_path, model)\n",
        "print(probs)\n",
        "print(classes)\n",
        "> [ 0.01558163  0.01541934  0.01452626  0.01443549  0.01407339]\n",
        "> ['70', '3', '45', '62', '55']\n",
        "```"
      ]
    },
    {
      "cell_type": "code",
      "execution_count": 26,
      "metadata": {
        "id": "sB5fHuXQ-PEe"
      },
      "outputs": [],
      "source": [
        "import torch\n",
        "from torch import nn\n",
        "from torchvision import models\n",
        "def predict(image_path, model, topk=5):\n",
        "    ''' Predict the class (or classes) of an image using a trained deep learning model.\n",
        "    '''\n",
        "\n",
        "    # TODO: Implement the code to predict the class from an image file\n",
        "    # Process the image\n",
        "    model.eval()  # Ensure the model is in evaluation mode\n",
        "    device = torch.device(\"cuda\" if torch.cuda.is_available() else \"cpu\")\n",
        "    model.to(device)  # Move model to the appropriate device\n",
        "\n",
        "    # Process the image and convert to tensor\n",
        "    processed_image = process_image(image_path)\n",
        "    image_tensor = torch.tensor(processed_image).unsqueeze(0).to(device)  # Add batch dimension and move to device\n",
        "\n",
        "    # Disable gradient calculations for inference\n",
        "    with torch.no_grad():\n",
        "        # Forward pass through the model\n",
        "        log_ps = model(image_tensor)\n",
        "\n",
        "        # Convert log probabilities to probabilities\n",
        "        ps = torch.exp(log_ps)\n",
        "\n",
        "        # Get the top k probabilities and indices\n",
        "        top_probs, top_indices = ps.topk(topk, dim=1)\n",
        "\n",
        "    # Convert probabilities and indices to lists\n",
        "    top_probs = top_probs.cpu().numpy().flatten().tolist()\n",
        "    top_indices = top_indices.cpu().numpy().flatten().tolist()\n",
        "\n",
        "    # Map the indices to the corresponding class labels\n",
        "    idx_to_class = {v: k for k, v in model.class_to_idx.items()}  # Reverse the class_to_idx mapping\n",
        "    top_classes = [idx_to_class[i] for i in top_indices]\n",
        "\n",
        "    return top_probs, top_classes"
      ]
    },
    {
      "cell_type": "markdown",
      "metadata": {
        "id": "XeAFEDrY-PEf"
      },
      "source": [
        "## Sanity Checking\n",
        "\n",
        "Now that you can use a trained model for predictions, check to make sure it makes sense. Even if the testing accuracy is high, it's always good to check that there aren't obvious bugs. Use `matplotlib` to plot the probabilities for the top 5 classes as a bar graph, along with the input image. It should look like this:\n",
        "\n",
        "<img src='assets/inference_example.png' width=300px>\n",
        "\n",
        "You can convert from the class integer encoding to actual flower names with the `cat_to_name.json` file (should have been loaded earlier in the notebook). To show a PyTorch tensor as an image, use the `imshow` function defined above."
      ]
    },
    {
      "cell_type": "code",
      "execution_count": 27,
      "metadata": {
        "id": "KLvCuEFp-PEf"
      },
      "outputs": [],
      "source": [
        "# TODO: Display an image along with the top 5 classes\n",
        "import matplotlib.pyplot as plt\n",
        "import numpy as np\n",
        "\n",
        "def imshow(image, ax=None, title=None):\n",
        "    \"\"\"\n",
        "    Display a processed image.\n",
        "\n",
        "    Args:\n",
        "        image (np.ndarray): The processed image (C x H x W).\n",
        "        ax (matplotlib.axes._axes.Axes, optional): Axis to plot the image on. Defaults to None.\n",
        "        title (str, optional): Title for the image. Defaults to None.\n",
        "\n",
        "    Returns:\n",
        "        ax: The matplotlib axis object with the image.\n",
        "    \"\"\"\n",
        "    if ax is None:\n",
        "        fig, ax = plt.subplots()\n",
        "\n",
        "    # Convert image to H x W x C for displaying\n",
        "    image = image.transpose((1, 2, 0))\n",
        "\n",
        "    # Reverse the normalization process\n",
        "    mean = np.array([0.485, 0.456, 0.406])\n",
        "    std = np.array([0.229, 0.224, 0.225])\n",
        "    image = std * image + mean\n",
        "    image = np.clip(image, 0, 1)  # Ensure pixel values are in [0, 1]\n",
        "\n",
        "    ax.imshow(image)\n",
        "    if title:\n",
        "        ax.set_title(title)\n",
        "    ax.axis('off')  # Remove axis ticks\n",
        "\n",
        "    return ax\n",
        "\n",
        "def display_image_with_predictions(image_path, model, topk=5):\n",
        "    \"\"\"\n",
        "    Display an image along with the top predicted classes and their probabilities.\n",
        "\n",
        "    Args:\n",
        "        image_path (str): Path to the image file.\n",
        "        model (nn.Module): The trained PyTorch model.\n",
        "        topk (int): Number of top predictions to display.\n",
        "    \"\"\"\n",
        "    # Predict the top classes and probabilities\n",
        "    probs, classes = predict(image_path, model, topk)\n",
        "\n",
        "    # Process the image\n",
        "    processed_image = process_image(image_path)\n",
        "\n",
        "    # Plot the image\n",
        "    fig, (ax1, ax2) = plt.subplots(figsize=(6, 9), nrows=2)\n",
        "    imshow(processed_image, ax=ax1, title=\"Input Image\")\n",
        "\n",
        "    # Plot the predictions\n",
        "    ax2.barh(classes, probs, color='blue')  # Horizontal bar chart\n",
        "    ax2.set_aspect(0.1)\n",
        "    ax2.set_yticks(range(len(classes)))\n",
        "    ax2.set_yticklabels(classes)\n",
        "    ax2.set_xlim(0, 1)  # Limit probabilities to [0, 1]\n",
        "\n",
        "    plt.tight_layout()\n",
        "    plt.show()\n"
      ]
    },
    {
      "cell_type": "markdown",
      "metadata": {
        "id": "aJ7YtgaI-PEf"
      },
      "source": [
        "## Reminder for Workspace users\n",
        "If your network becomes very large when saved as a checkpoint, there might be issues with saving backups in your workspace. You should reduce the size of your hidden layers and train again.\n",
        "    \n",
        "We strongly encourage you to delete these large interim files and directories before navigating to another page or closing the browser tab."
      ]
    },
    {
      "cell_type": "code",
      "execution_count": null,
      "metadata": {
        "id": "zzNvDSmg-PEg"
      },
      "outputs": [],
      "source": [
        "# TODO remove .pth files or move it to a temporary `~/opt` directory in this Workspace\n",
        "!rm checkpoint.pth"
      ]
    },
    {
      "cell_type": "code",
      "execution_count": null,
      "metadata": {
        "id": "o_PtbbNn-PEg"
      },
      "outputs": [],
      "source": [
        "from google.colab import files\n",
        "\n",
        "# Save the notebook as an HTML file\n",
        "!jupyter nbconvert --to html 'Image Classifier Project (1).ipynb'\n",
        "\n",
        "# Download the HTML file\n",
        "files.download('Image Classifier Project (1).html')\n"
      ]
    }
  ],
  "metadata": {
    "colab": {
      "provenance": [],
      "history_visible": true,
      "gpuType": "T4"
    },
    "kernelspec": {
      "display_name": "Python 3",
      "name": "python3"
    },
    "language_info": {
      "codemirror_mode": {
        "name": "ipython",
        "version": 3
      },
      "file_extension": ".py",
      "mimetype": "text/x-python",
      "name": "python",
      "nbconvert_exporter": "python",
      "pygments_lexer": "ipython3",
      "version": "3.10.11"
    },
    "accelerator": "GPU"
  },
  "nbformat": 4,
  "nbformat_minor": 0
}